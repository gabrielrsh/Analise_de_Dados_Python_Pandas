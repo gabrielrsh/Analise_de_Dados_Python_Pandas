{
  "nbformat": 4,
  "nbformat_minor": 0,
  "metadata": {
    "colab": {
      "provenance": [],
      "authorship_tag": "ABX9TyPsN48OJ6Yai1JWvg37jQn+",
      "include_colab_link": true
    },
    "kernelspec": {
      "name": "python3",
      "display_name": "Python 3"
    },
    "language_info": {
      "name": "python"
    }
  },
  "cells": [
    {
      "cell_type": "markdown",
      "metadata": {
        "id": "view-in-github",
        "colab_type": "text"
      },
      "source": [
        "<a href=\"https://colab.research.google.com/github/gabrielrsh/Analise_de_Dados_Python_Pandas/blob/main/analise_eploratoria_vendas.ipynb\" target=\"_parent\"><img src=\"https://colab.research.google.com/assets/colab-badge.svg\" alt=\"Open In Colab\"/></a>"
      ]
    },
    {
      "cell_type": "code",
      "execution_count": null,
      "metadata": {
        "id": "6SUJs8DQnT-j"
      },
      "outputs": [],
      "source": [
        "# Importando as bibliotecas\n",
        "import pandas as pd\n",
        "import matplotlib.pyplot as plt\n",
        "plt.style.use(\"seaborn\")"
      ]
    },
    {
      "cell_type": "code",
      "source": [
        "# Criando DataFrame\n",
        "df = pd.read_excel(\"datasets/AdventureWorks.xlsx\")"
      ],
      "metadata": {
        "id": "lxlX9cREpprJ"
      },
      "execution_count": null,
      "outputs": []
    },
    {
      "cell_type": "code",
      "source": [
        "# Visualizar as 5 primeiras linhas\n",
        "df.head()"
      ],
      "metadata": {
        "id": "VIe72PUvqE0u"
      },
      "execution_count": null,
      "outputs": []
    },
    {
      "cell_type": "code",
      "source": [
        "# Quantidade de linhas e colunas\n",
        "df.shape"
      ],
      "metadata": {
        "id": "cBo_1xNzqYDP"
      },
      "execution_count": null,
      "outputs": []
    },
    {
      "cell_type": "code",
      "source": [
        "# Verificando os tipos de Dados\n",
        "df.dtypes"
      ],
      "metadata": {
        "colab": {
          "base_uri": "https://localhost:8080/"
        },
        "id": "4F9mznEUqgZU",
        "outputId": "45a68824-751e-4df0-dd01-b4f99ce766a9"
      },
      "execution_count": null,
      "outputs": [
        {
          "output_type": "execute_result",
          "data": {
            "text/plain": [
              "Data Venda        datetime64[ns]\n",
              "Data Envio        datetime64[ns]\n",
              "ID Loja                    int64\n",
              "ID Produto                 int64\n",
              "ID Cliente                 int64\n",
              "No. Venda                 object\n",
              "Custo Unitário           float64\n",
              "Preço Unitário           float64\n",
              "Quantidade                 int64\n",
              "Valor Desconto           float64\n",
              "Valor Venda              float64\n",
              "Produto                   object\n",
              "Fabricante                object\n",
              "Marca                     object\n",
              "Classe                    object\n",
              "Cor                       object\n",
              "dtype: object"
            ]
          },
          "metadata": {},
          "execution_count": 7
        }
      ]
    },
    {
      "cell_type": "code",
      "source": [
        "# Qual a receita total?\n",
        "df[\"Valor Venda\"].sum()"
      ],
      "metadata": {
        "colab": {
          "base_uri": "https://localhost:8080/"
        },
        "id": "FE03fSKxqmPp",
        "outputId": "8bdc65c9-4617-4b40-a2cc-1542da5b2923"
      },
      "execution_count": null,
      "outputs": [
        {
          "output_type": "execute_result",
          "data": {
            "text/plain": [
              "5984606.1426"
            ]
          },
          "metadata": {},
          "execution_count": 6
        }
      ]
    },
    {
      "cell_type": "code",
      "source": [
        "# Qual é o custo total?\n",
        "df[\"Custo\"] = df['Custo Unitário'].mul(df['Quantidade'])"
      ],
      "metadata": {
        "id": "8XJEMd5RslV6"
      },
      "execution_count": null,
      "outputs": []
    },
    {
      "cell_type": "code",
      "source": [
        "df.head(1)"
      ],
      "metadata": {
        "id": "8p3LGzlrtE-g"
      },
      "execution_count": null,
      "outputs": []
    },
    {
      "cell_type": "code",
      "source": [
        "# Qual é o custo total?\n",
        "round(df['Custo'].sum(),2)"
      ],
      "metadata": {
        "colab": {
          "base_uri": "https://localhost:8080/"
        },
        "id": "HZG7gVmgtJBv",
        "outputId": "25d0d05c-593e-4504-a41d-1a347e9a96c2"
      },
      "execution_count": null,
      "outputs": [
        {
          "output_type": "execute_result",
          "data": {
            "text/plain": [
              "2486783.05"
            ]
          },
          "metadata": {},
          "execution_count": 10
        }
      ]
    },
    {
      "cell_type": "code",
      "source": [
        "# Tendo a receita total e o custo total podemos encontrar o lucro\n",
        "df['Lucro'] = df['Valor Venda'] - df['Custo']"
      ],
      "metadata": {
        "id": "lXXarSwrtkeS"
      },
      "execution_count": null,
      "outputs": []
    },
    {
      "cell_type": "code",
      "source": [
        "df.head(1)"
      ],
      "metadata": {
        "id": "kegYh_69uBBe"
      },
      "execution_count": null,
      "outputs": []
    },
    {
      "cell_type": "code",
      "source": [
        "# Lucro total?\n",
        "round(df['Lucro'].sum(), 2)"
      ],
      "metadata": {
        "colab": {
          "base_uri": "https://localhost:8080/"
        },
        "id": "lz7nUlAsuEdg",
        "outputId": "2e168d68-d993-40a3-d5d8-3afc2bee3aeb"
      },
      "execution_count": null,
      "outputs": [
        {
          "output_type": "execute_result",
          "data": {
            "text/plain": [
              "3497823.09"
            ]
          },
          "metadata": {},
          "execution_count": 13
        }
      ]
    },
    {
      "cell_type": "code",
      "source": [
        "# Criando coluna para armazenar o total de dias para a entrega\n",
        "df[\"Tempo Envio\"] = df['Data Envio'] - df['Data Venda']"
      ],
      "metadata": {
        "id": "wO_iyGPRunui"
      },
      "execution_count": null,
      "outputs": []
    },
    {
      "cell_type": "code",
      "source": [
        "df.head(1)"
      ],
      "metadata": {
        "id": "UA0n9X3-vHEo"
      },
      "execution_count": null,
      "outputs": []
    },
    {
      "cell_type": "markdown",
      "source": [
        "**Qual foi a média do tempo de envio para cada Marca?**"
      ],
      "metadata": {
        "id": "SCr-OKlYvUyG"
      }
    },
    {
      "cell_type": "code",
      "source": [
        "# Transfomando a coluna Tempo envio em numérica\n",
        "df['Tempo Envio'] = (df['Data Envio'] - df['Data Venda']).dt.days"
      ],
      "metadata": {
        "id": "rbWn0m38vh_M"
      },
      "execution_count": null,
      "outputs": []
    },
    {
      "cell_type": "code",
      "source": [
        "df.head(1)"
      ],
      "metadata": {
        "id": "XrxJRbvJGlBn"
      },
      "execution_count": null,
      "outputs": []
    },
    {
      "cell_type": "code",
      "source": [
        "# Conferindo o tipo de dado da coluna Tempo Envio\n",
        "df['Tempo Envio'].dtypes"
      ],
      "metadata": {
        "id": "5ooYmRCGHeC8"
      },
      "execution_count": null,
      "outputs": []
    },
    {
      "cell_type": "code",
      "source": [
        "# Média do tempo de envio por Marca\n",
        "df.groupby(\"Marca\")[\"Tempo Envio\"].mean()"
      ],
      "metadata": {
        "id": "IqMmKBuaH5s_"
      },
      "execution_count": null,
      "outputs": []
    },
    {
      "cell_type": "markdown",
      "source": [
        "**Analisar se existem valores ausentes na base de dados**"
      ],
      "metadata": {
        "id": "r7sNsQnKIvKg"
      }
    },
    {
      "cell_type": "code",
      "source": [
        "df.isnull().sum()"
      ],
      "metadata": {
        "id": "bEp07dVLI0S2"
      },
      "execution_count": null,
      "outputs": []
    },
    {
      "cell_type": "markdown",
      "source": [
        "**Qual foi o lucro por ano e por marca?**"
      ],
      "metadata": {
        "id": "u1kz9mWcJGaS"
      }
    },
    {
      "cell_type": "code",
      "source": [
        "# Alterar a visualização dos números (para nao exibir como notação cientifica)\n",
        "pd.options.display.float_format = '{:20,.2f}'.format"
      ],
      "metadata": {
        "id": "ifb_FeOgKQP6"
      },
      "execution_count": null,
      "outputs": []
    },
    {
      "cell_type": "code",
      "source": [
        "# Agrupando por ano e marca\n",
        "df.groupby([df['Data Venda'].dt.year, \"Marca\"])[\"Lucro\"].sum()"
      ],
      "metadata": {
        "id": "XJVYPXyUJK7D"
      },
      "execution_count": null,
      "outputs": []
    },
    {
      "cell_type": "code",
      "source": [
        "# Resetando Index para gerar um novo DataFrame\n",
        "lucro_ano = df.groupby([df['Data Venda'].dt.year, \"Marca\"])[\"Lucro\"].sum().reset_index()\n",
        "lucro_ano"
      ],
      "metadata": {
        "id": "ZENyTcnJLOLm"
      },
      "execution_count": null,
      "outputs": []
    },
    {
      "cell_type": "code",
      "source": [
        "# Qual o total de produtos vendidos?\n",
        "df.groupby(\"Produto\")['Quantidade'].sum().sort_values(ascending=False)"
      ],
      "metadata": {
        "id": "pgg2T_53LqIN"
      },
      "execution_count": null,
      "outputs": []
    },
    {
      "cell_type": "code",
      "source": [
        "# Gráfico com o total de produtos vendidos\n",
        "df.groupby('Produto')['Quantidade'].sum().sort_values().plot.barh(title=\"Total Produtos Vendidos\")\n",
        "plt.xlabel('Total')\n",
        "plt.ylabel('Produto');"
      ],
      "metadata": {
        "id": "4CIc-ZTaMY59"
      },
      "execution_count": null,
      "outputs": []
    },
    {
      "cell_type": "code",
      "source": [
        "# Gráfico com o lucro por ano\n",
        "df.groupby(df['Data Venda'].dt.year)['Lucro'].sum().plot.bar(title='Lucro x Ano')\n",
        "plt.xlabel('Ano')\n",
        "plt.ylabel('Lucro');"
      ],
      "metadata": {
        "id": "WnvF9dWyNb-U"
      },
      "execution_count": null,
      "outputs": []
    },
    {
      "cell_type": "code",
      "source": [
        "df.groupby(df['Data Venda'].dt.year)['Lucro'].sum()"
      ],
      "metadata": {
        "id": "4wERhClBOzB8"
      },
      "execution_count": null,
      "outputs": []
    },
    {
      "cell_type": "code",
      "source": [
        "# Selecionando apenas as vendas de 2009\n",
        "df_2009 = df[df['Data Venda'].dt.year == 2009]\n",
        "df_2009.head()"
      ],
      "metadata": {
        "id": "tak5t0uTO7C5"
      },
      "execution_count": null,
      "outputs": []
    },
    {
      "cell_type": "code",
      "source": [
        "# Gráfico do lucro por mês do ano de 2009\n",
        "df_2009.groupby(df_2009['Data Venda'].dt.month)['Lucro'].sum().plot(title='Lucro x Mês')\n",
        "plt.xlabel('Mês')\n",
        "plt.ylabel('Lucro');"
      ],
      "metadata": {
        "id": "812kstaCPu51"
      },
      "execution_count": null,
      "outputs": []
    },
    {
      "cell_type": "code",
      "source": [
        "# Gráfico do lucro por Marca no ano de 2009\n",
        "df_2009.groupby('Marca')['Lucro'].sum().plot.bar(title='Lucro x Marca em 2009')\n",
        "plt.xlabel('Marca')\n",
        "plt.ylabel('Lucro')\n",
        "plt.ticklabel_format(style='plain', axis='y')\n",
        "plt.xticks(rotation='horizontal');"
      ],
      "metadata": {
        "colab": {
          "base_uri": "https://localhost:8080/",
          "height": 376
        },
        "id": "iZgO3WM6QlRh",
        "outputId": "c26b4cfe-4817-4e7a-8597-f57406590ca4"
      },
      "execution_count": null,
      "outputs": [
        {
          "output_type": "display_data",
          "data": {
            "text/plain": [
              "<Figure size 576x396 with 1 Axes>"
            ],
            "image/png": "[encoded data removed]"
          },
          "metadata": {}
        }
      ]
    },
    {
      "cell_type": "code",
      "source": [
        "# Gráfico do lucro por Classe no ano de 2009\n",
        "df_2009.groupby('Classe')['Lucro'].sum().plot.bar(title='Lucro x Classe em 2009')\n",
        "plt.xlabel('Classe')\n",
        "plt.ylabel('Lucro')\n",
        "plt.ticklabel_format(style='plain', axis='y')\n",
        "plt.xticks(rotation='horizontal');"
      ],
      "metadata": {
        "colab": {
          "base_uri": "https://localhost:8080/",
          "height": 376
        },
        "id": "2JOLGVnHScZ9",
        "outputId": "ce7d7976-d064-4b2b-9624-7b8751949682"
      },
      "execution_count": null,
      "outputs": [
        {
          "output_type": "display_data",
          "data": {
            "text/plain": [
              "<Figure size 576x396 with 1 Axes>"
            ],
            "image/png": "[encoded data removed]"
          },
          "metadata": {}
        }
      ]
    },
    {
      "cell_type": "code",
      "source": [
        "# Análises estatísticas do Tempo de Envio\n",
        "df['Tempo Envio'].describe()"
      ],
      "metadata": {
        "id": "vIHvZIesSqbv"
      },
      "execution_count": null,
      "outputs": []
    },
    {
      "cell_type": "code",
      "source": [
        "# Gráfico de Boxplot do tempo de envio\n",
        "plt.boxplot(df['Tempo Envio']);"
      ],
      "metadata": {
        "colab": {
          "base_uri": "https://localhost:8080/",
          "height": 347
        },
        "id": "DQ8v5RTLTCkQ",
        "outputId": "b921e965-dd61-43c8-e3fa-59945c4ab862"
      },
      "execution_count": null,
      "outputs": [
        {
          "output_type": "display_data",
          "data": {
            "text/plain": [
              "<Figure size 576x396 with 1 Axes>"
            ],
            "image/png": "[encoded data removed]"
          },
          "metadata": {}
        }
      ]
    },
    {
      "cell_type": "code",
      "source": [
        "# Histograma do tempo de envio\n",
        "plt.hist(df['Tempo Envio']);"
      ],
      "metadata": {
        "colab": {
          "base_uri": "https://localhost:8080/",
          "height": 347
        },
        "id": "yu8FvpiUUCjp",
        "outputId": "9eb54161-8ba1-4210-e465-5fb043b70c2c"
      },
      "execution_count": null,
      "outputs": [
        {
          "output_type": "display_data",
          "data": {
            "text/plain": [
              "<Figure size 576x396 with 1 Axes>"
            ],
            "image/png": "[encoded data removed]"
          },
          "metadata": {}
        }
      ]
    },
    {
      "cell_type": "code",
      "source": [
        "# Tempo mínimo de envio\n",
        "print(f\"Tempo mínimo de envio {df['Tempo Envio'].min()} dias\")\n",
        "\n",
        "# Tempo máximo de envio\n",
        "print(f\"Tempo máximo de envio {df['Tempo Envio'].max()} dias\")"
      ],
      "metadata": {
        "colab": {
          "base_uri": "https://localhost:8080/"
        },
        "id": "zkLcXrA9UP8H",
        "outputId": "d57606cc-ba61-4722-b238-b63f597b1ed0"
      },
      "execution_count": null,
      "outputs": [
        {
          "output_type": "stream",
          "name": "stdout",
          "text": [
            "Tempo mínimo de envio 4 dias\n",
            "Tempo máximo de envio 20 dias\n"
          ]
        }
      ]
    },
    {
      "cell_type": "code",
      "source": [
        "# Identificando o Outlier\n",
        "df[df['Tempo Envio'] == 20]"
      ],
      "metadata": {
        "id": "AZDdj2w7U3nS"
      },
      "execution_count": null,
      "outputs": []
    },
    {
      "cell_type": "code",
      "source": [
        "# Salvando em um arquivo csv\n",
        "df.to_csv(\"df_vendas_novo.csv\", index=False)"
      ],
      "metadata": {
        "id": "11NVRxkiVaSw"
      },
      "execution_count": null,
      "outputs": []
    }
  ]
}